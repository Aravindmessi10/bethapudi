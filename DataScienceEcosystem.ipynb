{
 "cells": [
  {
   "cell_type": "markdown",
   "id": "1d59fd1a-42d1-4037-833d-9450baca5075",
   "metadata": {},
   "source": [
    "# Data Science Tools and Ecosystem"
   ]
  },
  {
   "cell_type": "markdown",
   "id": "3a71d09d-5ec4-46a1-8b39-2a85bc7c186b",
   "metadata": {},
   "source": [
    "## In this notebook, Data Science Tools and Ecosystem are summarized."
   ]
  },
  {
   "cell_type": "markdown",
   "id": "5dde21d2-5c94-471b-baff-e8f04615681a",
   "metadata": {},
   "source": [
    "### ***Objectives:*** ###"
   ]
  },
  {
   "cell_type": "markdown",
   "id": "7f66984f-e8bb-4919-97c4-7a171613b6f9",
   "metadata": {},
   "source": [
    "- List popular languages that Data Scientists use \n",
    "- List commonly used libraries used by Data Scientists \n",
    "- List some data science tools"
   ]
  },
  {
   "cell_type": "markdown",
   "id": "a1618b08-bfec-48a6-8e5d-227c7e864f75",
   "metadata": {},
   "source": [
    "### Some of the popular languages that Data Scientists use are:"
   ]
  },
  {
   "cell_type": "markdown",
   "id": "e9e3496e-59eb-4a7c-94f4-be9158b07a6c",
   "metadata": {},
   "source": [
    "1. Python\n",
    "2. R\n",
    "3. SQL\n",
    "4. Java\n",
    "5. Scala"
   ]
  },
  {
   "cell_type": "markdown",
   "id": "b98090ef-8542-4c4c-8d0f-99acb0d1f297",
   "metadata": {},
   "source": [
    "### Some of the commonly used libraries used by Data Scientists include:"
   ]
  },
  {
   "cell_type": "markdown",
   "id": "50cc2470-b459-4df5-9b7a-4bccf51f1a20",
   "metadata": {},
   "source": [
    "1. Pandas\n",
    "2. Numpy\n",
    "3. Seaborn\n",
    "4. Matplotlib\n",
    "5. Keras"
   ]
  },
  {
   "cell_type": "markdown",
   "id": "156680d3-ee76-4e61-855a-9455f902d5b6",
   "metadata": {},
   "source": [
    "|Data Science Tools|\n",
    "|------------------|\n",
    "|Jupyter Notebook|\n",
    "|Rapid Miner|\n",
    "|VR Studio|"
   ]
  },
  {
   "cell_type": "markdown",
   "id": "4ae1e0ff-5c08-4251-8ee4-2cf0e4acafd9",
   "metadata": {},
   "source": [
    "### Below are a few examples of evaluating arithmetic expressions in Python"
   ]
  },
  {
   "cell_type": "code",
   "execution_count": 1,
   "id": "fb73288d-5f01-4149-a77e-b7cb77675b36",
   "metadata": {
    "tags": []
   },
   "outputs": [
    {
     "data": {
      "text/plain": [
       "17"
      ]
     },
     "execution_count": 1,
     "metadata": {},
     "output_type": "execute_result"
    }
   ],
   "source": [
    "#This a simple arithmetic expression to mutiply then add integers\n",
    "(3*4)+5"
   ]
  },
  {
   "cell_type": "code",
   "execution_count": 3,
   "id": "8566eb10-0994-4bc0-940b-10c21fb5c48d",
   "metadata": {
    "tags": []
   },
   "outputs": [
    {
     "data": {
      "text/plain": [
       "3.3333333333333335"
      ]
     },
     "execution_count": 3,
     "metadata": {},
     "output_type": "execute_result"
    }
   ],
   "source": [
    "#This will convert 200 minutes to hours by diving by 60\n",
    "200/60 "
   ]
  },
  {
   "cell_type": "markdown",
   "id": "6ec9936d-2d05-433e-a2a9-0c1ae198c4f3",
   "metadata": {},
   "source": [
    "## Author ##"
   ]
  },
  {
   "cell_type": "markdown",
   "id": "65c0968e-defd-40a6-9f5f-deffa8f3775e",
   "metadata": {},
   "source": [
    "Aravind"
   ]
  },
  {
   "cell_type": "code",
   "execution_count": null,
   "id": "368a2f5d-3933-41fb-a7e7-df00eb951afd",
   "metadata": {},
   "outputs": [],
   "source": []
  }
 ],
 "metadata": {
  "kernelspec": {
   "display_name": "Python",
   "language": "python",
   "name": "conda-env-python-py"
  },
  "language_info": {
   "codemirror_mode": {
    "name": "ipython",
    "version": 3
   },
   "file_extension": ".py",
   "mimetype": "text/x-python",
   "name": "python",
   "nbconvert_exporter": "python",
   "pygments_lexer": "ipython3",
   "version": "3.7.12"
  }
 },
 "nbformat": 4,
 "nbformat_minor": 5
}
